{
 "cells": [
  {
   "cell_type": "code",
   "execution_count": 1,
   "id": "760cf189-6466-4caa-980b-2c898ec2fe5f",
   "metadata": {},
   "outputs": [],
   "source": [
    "import numpy as np\n",
    "import pandas as pd\n",
    "import matplotlib.pyplot as plt\n",
    "\n",
    "import sys\n",
    "sys.path.append('..')\n",
    "import code_logistic_regression.logistic_regression as logic\n",
    "from code_misc.utils import MyUtils\n",
    "import tester"
   ]
  },
  {
   "cell_type": "code",
   "execution_count": 2,
   "id": "c1a67c62-c6ec-4595-bf05-c4a98cf43931",
   "metadata": {},
   "outputs": [
    {
     "name": "stdout",
     "output_type": "stream",
     "text": [
      "For SGD, and the following params:\n",
      "lam: 0, z_r: 1, eta: 0.001\n",
      "Expected train/test error:\n",
      "43, 16\n",
      "Found train/test error:\n",
      "45, 16\n",
      "\n",
      "For SGD, and the following params:\n",
      "lam: 0, z_r: 1, eta: 0.001\n",
      "Expected train/test error:\n",
      "43, 16\n",
      "Found train/test error:\n",
      "45, 16\n",
      "\n",
      "For SGD, and the following params:\n",
      "lam: 0, z_r: 2, eta: 0.001\n",
      "Expected train/test error:\n",
      "15, 5\n",
      "Found train/test error:\n",
      "13, 5\n",
      "\n",
      "For SGD, and the following params:\n",
      "lam: 0, z_r: 2, eta: 0.001\n",
      "Expected train/test error:\n",
      "14, 5\n",
      "Found train/test error:\n",
      "16, 5\n",
      "\n",
      "For SGD, and the following params:\n",
      "lam: 1, z_r: 1, eta: 0.01\n",
      "Expected train/test error:\n",
      "78, 25\n",
      "Found train/test error:\n",
      "83, 25\n",
      "\n",
      "For SGD, and the following params:\n",
      "lam: 1, z_r: 2, eta: 0.01\n",
      "Expected train/test error:\n",
      "52, 16\n",
      "Found train/test error:\n",
      "73, 23\n",
      "\n",
      "Please note that for Stochastic Gradient descent, 0 initialization of the weights is assumed.\n",
      "Due to randomness resulting from shuffling the data, minor differences can be safely ignored.\n",
      "PassedGD: True, PassedSGD: False\n",
      "Non-shuffling of the data is assumed as well for the tester's data.\n"
     ]
    }
   ],
   "source": [
    "tester.main()"
   ]
  },
  {
   "cell_type": "code",
   "execution_count": null,
   "id": "49dae859-c783-468d-a1fc-2742865c695d",
   "metadata": {},
   "outputs": [],
   "source": []
  }
 ],
 "metadata": {
  "kernelspec": {
   "display_name": "Python 3 (ipykernel)",
   "language": "python",
   "name": "python3"
  },
  "language_info": {
   "codemirror_mode": {
    "name": "ipython",
    "version": 3
   },
   "file_extension": ".py",
   "mimetype": "text/x-python",
   "name": "python",
   "nbconvert_exporter": "python",
   "pygments_lexer": "ipython3",
   "version": "3.9.7"
  }
 },
 "nbformat": 4,
 "nbformat_minor": 5
}
